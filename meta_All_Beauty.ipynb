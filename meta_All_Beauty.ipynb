{
 "cells": [
  {
   "cell_type": "markdown",
   "metadata": {},
   "source": [
    "# meta_All_Beauty EDA"
   ]
  },
  {
   "cell_type": "code",
   "execution_count": 2,
   "metadata": {},
   "outputs": [
    {
     "name": "stdout",
     "output_type": "stream",
     "text": [
      "  main_category                                              title  \\\n",
      "0    All Beauty  Howard LC0008 Leather Conditioner, 8-Ounce (4-...   \n",
      "1    All Beauty  Yes to Tomatoes Detoxifying Charcoal Cleanser ...   \n",
      "2    All Beauty   Eye Patch Black Adult with Tie Band (6 Per Pack)   \n",
      "3    All Beauty  Tattoo Eyebrow Stickers, Waterproof Eyebrow, 4...   \n",
      "4    All Beauty  Precision Plunger Bars for Cartridge Grips – 9...   \n",
      "\n",
      "   average_rating  rating_number  \\\n",
      "0             4.8             10   \n",
      "1             4.5              3   \n",
      "2             4.4             26   \n",
      "3             3.1            102   \n",
      "4             4.3              7   \n",
      "\n",
      "                                            features  \\\n",
      "0                                                 []   \n",
      "1                                                 []   \n",
      "2                                                 []   \n",
      "3                                                 []   \n",
      "4  [Material: 304 Stainless Steel; Brass tip, Len...   \n",
      "\n",
      "                                         description  price  \\\n",
      "0                                                 []    NaN   \n",
      "1                                                 []    NaN   \n",
      "2                                                 []    NaN   \n",
      "3                                                 []    NaN   \n",
      "4  [The Precision Plunger Bars are designed to wo...    NaN   \n",
      "\n",
      "                                              images videos  \\\n",
      "0  [{'thumb': 'https://m.media-amazon.com/images/...     []   \n",
      "1  [{'thumb': 'https://m.media-amazon.com/images/...     []   \n",
      "2  [{'thumb': 'https://m.media-amazon.com/images/...     []   \n",
      "3  [{'thumb': 'https://m.media-amazon.com/images/...     []   \n",
      "4  [{'thumb': 'https://m.media-amazon.com/images/...     []   \n",
      "\n",
      "                    store categories  \\\n",
      "0         Howard Products         []   \n",
      "1                  Yes To         []   \n",
      "2  Levine Health Products         []   \n",
      "3                Cherioll         []   \n",
      "4               Precision         []   \n",
      "\n",
      "                                             details parent_asin  \\\n",
      "0  {'Package Dimensions': '7.1 x 5.5 x 3 inches; ...  B01CUPMQZE   \n",
      "1  {'Item Form': 'Powder', 'Skin Type': 'Acne Pro...  B076WQZGPM   \n",
      "2         {'Manufacturer': 'Levine Health Products'}  B000B658RI   \n",
      "3  {'Brand': 'Cherioll', 'Item Form': 'Powder', '...  B088FKY3VD   \n",
      "4                            {'UPC': '644287689178'}  B07NGFDN6G   \n",
      "\n",
      "  bought_together  \n",
      "0            None  \n",
      "1            None  \n",
      "2            None  \n",
      "3            None  \n",
      "4            None  \n"
     ]
    }
   ],
   "source": [
    "import pandas as pd\n",
    "import json\n",
    "\n",
    "file_path = \"meta_All_Beauty.jsonl\"\n",
    "\n",
    "data = []\n",
    "with open(file_path, \"r\", encoding=\"utf-8\") as file:\n",
    "    for line in file:\n",
    "        data.append(json.loads(line)) \n",
    "\n",
    "meta = pd.DataFrame(data)\n",
    "print(meta.head()) "
   ]
  },
  {
   "cell_type": "code",
   "execution_count": 26,
   "metadata": {},
   "outputs": [
    {
     "data": {
      "text/plain": [
       "<bound method NDFrame.describe of        main_category                                              title  \\\n",
       "0         All Beauty  Howard LC0008 Leather Conditioner, 8-Ounce (4-...   \n",
       "1         All Beauty  Yes to Tomatoes Detoxifying Charcoal Cleanser ...   \n",
       "2         All Beauty   Eye Patch Black Adult with Tie Band (6 Per Pack)   \n",
       "3         All Beauty  Tattoo Eyebrow Stickers, Waterproof Eyebrow, 4...   \n",
       "4         All Beauty  Precision Plunger Bars for Cartridge Grips – 9...   \n",
       "...              ...                                                ...   \n",
       "112585    All Beauty  TOPREETY 24\"120gr 3/4 Full Head clip in hair e...   \n",
       "112586    All Beauty  Pets Playmate Pet Grooming Glove,Gentle Deshed...   \n",
       "112587    All Beauty  [10Pack] Makeup Brushes Set Cosmetics Tools Ki...   \n",
       "112588    All Beauty  Xcoser Pretty Party Anna Wig Hair Tails Hair S...   \n",
       "112589    All Beauty  DVIO Men's Voyage Perfume, Spicy woody fragran...   \n",
       "\n",
       "        average_rating  rating_number  \\\n",
       "0                  4.8             10   \n",
       "1                  4.5              3   \n",
       "2                  4.4             26   \n",
       "3                  3.1            102   \n",
       "4                  4.3              7   \n",
       "...                ...            ...   \n",
       "112585             5.0              3   \n",
       "112586             5.0              1   \n",
       "112587             4.3              5   \n",
       "112588             4.0              9   \n",
       "112589             1.8              2   \n",
       "\n",
       "                                                 features  \\\n",
       "0                                                      []   \n",
       "1                                                      []   \n",
       "2                                                      []   \n",
       "3                                                      []   \n",
       "4       [Material: 304 Stainless Steel; Brass tip, Len...   \n",
       "...                                                   ...   \n",
       "112585                                                 []   \n",
       "112586                                                 []   \n",
       "112587                                                 []   \n",
       "112588                                                 []   \n",
       "112589  [Features: Spicy woody notes, pure sandalwood ...   \n",
       "\n",
       "                                              description  price  \\\n",
       "0                                                      []    NaN   \n",
       "1                                                      []    NaN   \n",
       "2                                                      []    NaN   \n",
       "3                                                      []    NaN   \n",
       "4       [The Precision Plunger Bars are designed to wo...    NaN   \n",
       "...                                                   ...    ...   \n",
       "112585                                                 []    NaN   \n",
       "112586                                                 []    NaN   \n",
       "112587                                                 []    NaN   \n",
       "112588                                                 []    NaN   \n",
       "112589                                                 []  27.99   \n",
       "\n",
       "                                                   images videos  \\\n",
       "0       [{'thumb': 'https://m.media-amazon.com/images/...     []   \n",
       "1       [{'thumb': 'https://m.media-amazon.com/images/...     []   \n",
       "2       [{'thumb': 'https://m.media-amazon.com/images/...     []   \n",
       "3       [{'thumb': 'https://m.media-amazon.com/images/...     []   \n",
       "4       [{'thumb': 'https://m.media-amazon.com/images/...     []   \n",
       "...                                                   ...    ...   \n",
       "112585  [{'thumb': 'https://m.media-amazon.com/images/...     []   \n",
       "112586  [{'thumb': 'https://m.media-amazon.com/images/...     []   \n",
       "112587  [{'thumb': 'https://m.media-amazon.com/images/...     []   \n",
       "112588  [{'thumb': 'https://m.media-amazon.com/images/...     []   \n",
       "112589  [{'thumb': 'https://m.media-amazon.com/images/...     []   \n",
       "\n",
       "                         store categories  \\\n",
       "0              Howard Products         []   \n",
       "1                       Yes To         []   \n",
       "2       Levine Health Products         []   \n",
       "3                     Cherioll         []   \n",
       "4                    Precision         []   \n",
       "...                        ...        ...   \n",
       "112585                TOPREETY         []   \n",
       "112586           Pets Playmate         []   \n",
       "112587              RainMakers         []   \n",
       "112588                  Xcoser         []   \n",
       "112589                    DVIO         []   \n",
       "\n",
       "                                                  details parent_asin  \\\n",
       "0       {'Package Dimensions': '7.1 x 5.5 x 3 inches; ...  B01CUPMQZE   \n",
       "1       {'Item Form': 'Powder', 'Skin Type': 'Acne Pro...  B076WQZGPM   \n",
       "2              {'Manufacturer': 'Levine Health Products'}  B000B658RI   \n",
       "3       {'Brand': 'Cherioll', 'Item Form': 'Powder', '...  B088FKY3VD   \n",
       "4                                 {'UPC': '644287689178'}  B07NGFDN6G   \n",
       "...                                                   ...         ...   \n",
       "112585  {'Is Discontinued By Manufacturer': 'No', 'Pac...  B077D2Z5RF   \n",
       "112586  {'Is Discontinued By Manufacturer': 'No', 'Pac...  B07DLRYKQZ   \n",
       "112587  {'Brand': 'RainMakers', 'Recommended Uses For ...  B07HNP2NTF   \n",
       "112588  {'Is Discontinued By Manufacturer': 'No', 'Pac...  B00U3OB8PY   \n",
       "112589    {'UPC': '736238729337', 'Manufacturer': 'DVIO'}  B09B9TCYWG   \n",
       "\n",
       "       bought_together  \n",
       "0                 None  \n",
       "1                 None  \n",
       "2                 None  \n",
       "3                 None  \n",
       "4                 None  \n",
       "...                ...  \n",
       "112585            None  \n",
       "112586            None  \n",
       "112587            None  \n",
       "112588            None  \n",
       "112589            None  \n",
       "\n",
       "[112590 rows x 14 columns]>"
      ]
     },
     "execution_count": 26,
     "metadata": {},
     "output_type": "execute_result"
    }
   ],
   "source": [
    "meta.describe"
   ]
  },
  {
   "cell_type": "code",
   "execution_count": 27,
   "metadata": {},
   "outputs": [
    {
     "name": "stdout",
     "output_type": "stream",
     "text": [
      "<class 'pandas.core.frame.DataFrame'>\n",
      "RangeIndex: 112590 entries, 0 to 112589\n",
      "Data columns (total 14 columns):\n",
      " #   Column           Non-Null Count   Dtype  \n",
      "---  ------           --------------   -----  \n",
      " 0   main_category    112590 non-null  object \n",
      " 1   title            112590 non-null  object \n",
      " 2   average_rating   112590 non-null  float64\n",
      " 3   rating_number    112590 non-null  int64  \n",
      " 4   features         112590 non-null  object \n",
      " 5   description      112590 non-null  object \n",
      " 6   price            17704 non-null   float64\n",
      " 7   images           112590 non-null  object \n",
      " 8   videos           112590 non-null  object \n",
      " 9   store            101259 non-null  object \n",
      " 10  categories       112590 non-null  object \n",
      " 11  details          112590 non-null  object \n",
      " 12  parent_asin      112590 non-null  object \n",
      " 13  bought_together  0 non-null       object \n",
      "dtypes: float64(2), int64(1), object(11)\n",
      "memory usage: 12.0+ MB\n"
     ]
    }
   ],
   "source": [
    "meta.info()"
   ]
  },
  {
   "cell_type": "code",
   "execution_count": 3,
   "metadata": {},
   "outputs": [
    {
     "data": {
      "text/plain": [
       "Index(['main_category', 'title', 'average_rating', 'rating_number', 'features',\n",
       "       'description', 'price', 'images', 'videos', 'store', 'categories',\n",
       "       'details', 'parent_asin', 'bought_together'],\n",
       "      dtype='object')"
      ]
     },
     "execution_count": 3,
     "metadata": {},
     "output_type": "execute_result"
    }
   ],
   "source": [
    "meta.columns"
   ]
  },
  {
   "cell_type": "markdown",
   "metadata": {},
   "source": [
    "## main_category\n",
    "str  \n",
    "Main category (i.e., domain) of the product."
   ]
  },
  {
   "cell_type": "code",
   "execution_count": 5,
   "metadata": {},
   "outputs": [
    {
     "data": {
      "text/plain": [
       "array(['All Beauty', 'Premium Beauty'], dtype=object)"
      ]
     },
     "execution_count": 5,
     "metadata": {},
     "output_type": "execute_result"
    }
   ],
   "source": [
    "meta.main_category.unique()"
   ]
  },
  {
   "cell_type": "markdown",
   "metadata": {},
   "source": [
    "## title\n",
    "str  \n",
    "Name of the product."
   ]
  },
  {
   "cell_type": "code",
   "execution_count": 7,
   "metadata": {},
   "outputs": [
    {
     "data": {
      "text/plain": [
       "0         Howard LC0008 Leather Conditioner, 8-Ounce (4-...\n",
       "1         Yes to Tomatoes Detoxifying Charcoal Cleanser ...\n",
       "2          Eye Patch Black Adult with Tie Band (6 Per Pack)\n",
       "3         Tattoo Eyebrow Stickers, Waterproof Eyebrow, 4...\n",
       "4         Precision Plunger Bars for Cartridge Grips – 9...\n",
       "                                ...                        \n",
       "112585    TOPREETY 24\"120gr 3/4 Full Head clip in hair e...\n",
       "112586    Pets Playmate Pet Grooming Glove,Gentle Deshed...\n",
       "112587    [10Pack] Makeup Brushes Set Cosmetics Tools Ki...\n",
       "112588    Xcoser Pretty Party Anna Wig Hair Tails Hair S...\n",
       "112589    DVIO Men's Voyage Perfume, Spicy woody fragran...\n",
       "Name: title, Length: 112590, dtype: object"
      ]
     },
     "execution_count": 7,
     "metadata": {},
     "output_type": "execute_result"
    }
   ],
   "source": [
    "meta.title"
   ]
  },
  {
   "cell_type": "markdown",
   "metadata": {},
   "source": [
    "## average_rating\n",
    "float\n",
    "Rating of the product shown on the product page."
   ]
  },
  {
   "cell_type": "code",
   "execution_count": 8,
   "metadata": {},
   "outputs": [
    {
     "data": {
      "text/plain": [
       "0         4.8\n",
       "1         4.5\n",
       "2         4.4\n",
       "3         3.1\n",
       "4         4.3\n",
       "         ... \n",
       "112585    5.0\n",
       "112586    5.0\n",
       "112587    4.3\n",
       "112588    4.0\n",
       "112589    1.8\n",
       "Name: average_rating, Length: 112590, dtype: float64"
      ]
     },
     "execution_count": 8,
     "metadata": {},
     "output_type": "execute_result"
    }
   ],
   "source": [
    "meta.average_rating"
   ]
  },
  {
   "cell_type": "markdown",
   "metadata": {},
   "source": [
    "## rating_number\n",
    "int  \n",
    "Number of ratings in the product. 제품 평가 수"
   ]
  },
  {
   "cell_type": "code",
   "execution_count": 9,
   "metadata": {},
   "outputs": [
    {
     "data": {
      "text/plain": [
       "0          10\n",
       "1           3\n",
       "2          26\n",
       "3         102\n",
       "4           7\n",
       "         ... \n",
       "112585      3\n",
       "112586      1\n",
       "112587      5\n",
       "112588      9\n",
       "112589      2\n",
       "Name: rating_number, Length: 112590, dtype: int64"
      ]
     },
     "execution_count": 9,
     "metadata": {},
     "output_type": "execute_result"
    }
   ],
   "source": [
    "meta.rating_number"
   ]
  },
  {
   "cell_type": "markdown",
   "metadata": {},
   "source": [
    "## features\n",
    "list  \n",
    "Bullet-point format features of the product."
   ]
  },
  {
   "cell_type": "code",
   "execution_count": 10,
   "metadata": {},
   "outputs": [
    {
     "data": {
      "text/plain": [
       "0                                                        []\n",
       "1                                                        []\n",
       "2                                                        []\n",
       "3                                                        []\n",
       "4         [Material: 304 Stainless Steel; Brass tip, Len...\n",
       "                                ...                        \n",
       "112585                                                   []\n",
       "112586                                                   []\n",
       "112587                                                   []\n",
       "112588                                                   []\n",
       "112589    [Features: Spicy woody notes, pure sandalwood ...\n",
       "Name: features, Length: 112590, dtype: object"
      ]
     },
     "execution_count": 10,
     "metadata": {},
     "output_type": "execute_result"
    }
   ],
   "source": [
    "meta.features"
   ]
  },
  {
   "cell_type": "markdown",
   "metadata": {},
   "source": [
    "## description\n",
    "list  \n",
    "Description of the product."
   ]
  },
  {
   "cell_type": "code",
   "execution_count": 11,
   "metadata": {},
   "outputs": [
    {
     "data": {
      "text/plain": [
       "0                                                        []\n",
       "1                                                        []\n",
       "2                                                        []\n",
       "3                                                        []\n",
       "4         [The Precision Plunger Bars are designed to wo...\n",
       "                                ...                        \n",
       "112585                                                   []\n",
       "112586                                                   []\n",
       "112587                                                   []\n",
       "112588                                                   []\n",
       "112589                                                   []\n",
       "Name: description, Length: 112590, dtype: object"
      ]
     },
     "execution_count": 11,
     "metadata": {},
     "output_type": "execute_result"
    }
   ],
   "source": [
    "meta.description"
   ]
  },
  {
   "cell_type": "markdown",
   "metadata": {},
   "source": [
    "## price  \n",
    "float  \n",
    "Price in US dollars (at time of crawling)."
   ]
  },
  {
   "cell_type": "code",
   "execution_count": 17,
   "metadata": {},
   "outputs": [
    {
     "data": {
      "text/plain": [
       "0           NaN\n",
       "1           NaN\n",
       "2           NaN\n",
       "3           NaN\n",
       "4           NaN\n",
       "          ...  \n",
       "112585      NaN\n",
       "112586      NaN\n",
       "112587      NaN\n",
       "112588      NaN\n",
       "112589    27.99\n",
       "Name: price, Length: 112590, dtype: float64"
      ]
     },
     "execution_count": 17,
     "metadata": {},
     "output_type": "execute_result"
    }
   ],
   "source": [
    "meta.price"
   ]
  },
  {
   "cell_type": "markdown",
   "metadata": {},
   "source": [
    "## images\n",
    "list   \n",
    "Images of the product. Each image has different sizes (thumb, large, hi_res). The “variant” field shows the position of image."
   ]
  },
  {
   "cell_type": "code",
   "execution_count": 19,
   "metadata": {},
   "outputs": [
    {
     "data": {
      "text/plain": [
       "0         [{'thumb': 'https://m.media-amazon.com/images/...\n",
       "1         [{'thumb': 'https://m.media-amazon.com/images/...\n",
       "2         [{'thumb': 'https://m.media-amazon.com/images/...\n",
       "3         [{'thumb': 'https://m.media-amazon.com/images/...\n",
       "4         [{'thumb': 'https://m.media-amazon.com/images/...\n",
       "                                ...                        \n",
       "112585    [{'thumb': 'https://m.media-amazon.com/images/...\n",
       "112586    [{'thumb': 'https://m.media-amazon.com/images/...\n",
       "112587    [{'thumb': 'https://m.media-amazon.com/images/...\n",
       "112588    [{'thumb': 'https://m.media-amazon.com/images/...\n",
       "112589    [{'thumb': 'https://m.media-amazon.com/images/...\n",
       "Name: images, Length: 112590, dtype: object"
      ]
     },
     "execution_count": 19,
     "metadata": {},
     "output_type": "execute_result"
    }
   ],
   "source": [
    "meta.images"
   ]
  },
  {
   "cell_type": "markdown",
   "metadata": {},
   "source": [
    "## videos\n",
    "list  \n",
    "Videos of the product including title and url."
   ]
  },
  {
   "cell_type": "code",
   "execution_count": 20,
   "metadata": {},
   "outputs": [
    {
     "data": {
      "text/plain": [
       "0         []\n",
       "1         []\n",
       "2         []\n",
       "3         []\n",
       "4         []\n",
       "          ..\n",
       "112585    []\n",
       "112586    []\n",
       "112587    []\n",
       "112588    []\n",
       "112589    []\n",
       "Name: videos, Length: 112590, dtype: object"
      ]
     },
     "execution_count": 20,
     "metadata": {},
     "output_type": "execute_result"
    }
   ],
   "source": [
    "meta.videos"
   ]
  },
  {
   "cell_type": "markdown",
   "metadata": {},
   "source": [
    "## store\n",
    "str  \n",
    "Store name of the product. 제품 매장 이름"
   ]
  },
  {
   "cell_type": "code",
   "execution_count": 21,
   "metadata": {},
   "outputs": [
    {
     "data": {
      "text/plain": [
       "0                Howard Products\n",
       "1                         Yes To\n",
       "2         Levine Health Products\n",
       "3                       Cherioll\n",
       "4                      Precision\n",
       "                   ...          \n",
       "112585                  TOPREETY\n",
       "112586             Pets Playmate\n",
       "112587                RainMakers\n",
       "112588                    Xcoser\n",
       "112589                      DVIO\n",
       "Name: store, Length: 112590, dtype: object"
      ]
     },
     "execution_count": 21,
     "metadata": {},
     "output_type": "execute_result"
    }
   ],
   "source": [
    "meta.store"
   ]
  },
  {
   "cell_type": "markdown",
   "metadata": {},
   "source": [
    "## categories\n",
    "list  \n",
    "Hierarchical categories of the product."
   ]
  },
  {
   "cell_type": "code",
   "execution_count": 22,
   "metadata": {},
   "outputs": [
    {
     "data": {
      "text/plain": [
       "0         []\n",
       "1         []\n",
       "2         []\n",
       "3         []\n",
       "4         []\n",
       "          ..\n",
       "112585    []\n",
       "112586    []\n",
       "112587    []\n",
       "112588    []\n",
       "112589    []\n",
       "Name: categories, Length: 112590, dtype: object"
      ]
     },
     "execution_count": 22,
     "metadata": {},
     "output_type": "execute_result"
    }
   ],
   "source": [
    "meta.categories"
   ]
  },
  {
   "cell_type": "markdown",
   "metadata": {},
   "source": [
    "## details\n",
    "dict  \n",
    "Product details, including materials, brand, sizes, etc."
   ]
  },
  {
   "cell_type": "code",
   "execution_count": 23,
   "metadata": {},
   "outputs": [
    {
     "data": {
      "text/plain": [
       "0         {'Package Dimensions': '7.1 x 5.5 x 3 inches; ...\n",
       "1         {'Item Form': 'Powder', 'Skin Type': 'Acne Pro...\n",
       "2                {'Manufacturer': 'Levine Health Products'}\n",
       "3         {'Brand': 'Cherioll', 'Item Form': 'Powder', '...\n",
       "4                                   {'UPC': '644287689178'}\n",
       "                                ...                        \n",
       "112585    {'Is Discontinued By Manufacturer': 'No', 'Pac...\n",
       "112586    {'Is Discontinued By Manufacturer': 'No', 'Pac...\n",
       "112587    {'Brand': 'RainMakers', 'Recommended Uses For ...\n",
       "112588    {'Is Discontinued By Manufacturer': 'No', 'Pac...\n",
       "112589      {'UPC': '736238729337', 'Manufacturer': 'DVIO'}\n",
       "Name: details, Length: 112590, dtype: object"
      ]
     },
     "execution_count": 23,
     "metadata": {},
     "output_type": "execute_result"
    }
   ],
   "source": [
    "meta.details"
   ]
  },
  {
   "cell_type": "markdown",
   "metadata": {},
   "source": [
    "## parent_asin\n",
    "str   \n",
    "Parent ID of the product."
   ]
  },
  {
   "cell_type": "code",
   "execution_count": 24,
   "metadata": {},
   "outputs": [
    {
     "data": {
      "text/plain": [
       "0         B01CUPMQZE\n",
       "1         B076WQZGPM\n",
       "2         B000B658RI\n",
       "3         B088FKY3VD\n",
       "4         B07NGFDN6G\n",
       "             ...    \n",
       "112585    B077D2Z5RF\n",
       "112586    B07DLRYKQZ\n",
       "112587    B07HNP2NTF\n",
       "112588    B00U3OB8PY\n",
       "112589    B09B9TCYWG\n",
       "Name: parent_asin, Length: 112590, dtype: object"
      ]
     },
     "execution_count": 24,
     "metadata": {},
     "output_type": "execute_result"
    }
   ],
   "source": [
    "meta.parent_asin"
   ]
  },
  {
   "cell_type": "markdown",
   "metadata": {},
   "source": [
    "## bought_together\n",
    "list    \n",
    "Recommended bundles from the websites."
   ]
  },
  {
   "cell_type": "code",
   "execution_count": 25,
   "metadata": {},
   "outputs": [
    {
     "data": {
      "text/plain": [
       "0         None\n",
       "1         None\n",
       "2         None\n",
       "3         None\n",
       "4         None\n",
       "          ... \n",
       "112585    None\n",
       "112586    None\n",
       "112587    None\n",
       "112588    None\n",
       "112589    None\n",
       "Name: bought_together, Length: 112590, dtype: object"
      ]
     },
     "execution_count": 25,
     "metadata": {},
     "output_type": "execute_result"
    }
   ],
   "source": [
    "meta.bought_together"
   ]
  },
  {
   "cell_type": "code",
   "execution_count": null,
   "metadata": {},
   "outputs": [],
   "source": []
  }
 ],
 "metadata": {
  "kernelspec": {
   "display_name": "Python (myenv)",
   "language": "python",
   "name": "myenv"
  },
  "language_info": {
   "codemirror_mode": {
    "name": "ipython",
    "version": 3
   },
   "file_extension": ".py",
   "mimetype": "text/x-python",
   "name": "python",
   "nbconvert_exporter": "python",
   "pygments_lexer": "ipython3",
   "version": "3.12.4"
  }
 },
 "nbformat": 4,
 "nbformat_minor": 2
}
